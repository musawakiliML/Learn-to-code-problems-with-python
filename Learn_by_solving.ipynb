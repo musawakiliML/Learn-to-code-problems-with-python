{
 "cells": [
  {
   "cell_type": "markdown",
   "metadata": {},
   "source": [
    "## Getting Started"
   ]
  },
  {
   "cell_type": "code",
   "execution_count": 4,
   "metadata": {},
   "outputs": [
    {
     "name": "stdout",
     "output_type": "stream",
     "text": [
      "The Sentence: 'my name is musa' has 4 words.\n"
     ]
    }
   ],
   "source": [
    "#Problem One :  DMOJ problem dmopc15c7p2, Word Count\n",
    "# This Program Checks the number of words in a sentence \n",
    "sentence = input(\"Enter a word:\")\n",
    "\n",
    "word_count = sentence.count(\" \") + 1\n",
    "\n",
    "print(f\"The Sentence: '{sentence}' has {word_count} words.\")\n"
   ]
  },
  {
   "cell_type": "code",
   "execution_count": 5,
   "metadata": {},
   "outputs": [
    {
     "name": "stdout",
     "output_type": "stream",
     "text": [
      "The volume of a Cone with 12 radius and 23 height is 3468.318289563131\n"
     ]
    }
   ],
   "source": [
    "#Problem Two: DMOJ problem dmopc14c5p1, Cone Volume\n",
    "# This program calculates the volume of cone using the formula:(π * r^2 * h)/3\n",
    "import math\n",
    "\n",
    "radius = eval(input(\"Enter radius:\"))\n",
    "height = eval(input(\"Enter height:\"))\n",
    "\n",
    "volume = math.pi * (radius ** 2) * height / 3\n",
    "\n",
    "print(f\"The volume of a Cone with {radius} radius and {height} height is {volume}\")"
   ]
  },
  {
   "cell_type": "code",
   "execution_count": 7,
   "metadata": {},
   "outputs": [
    {
     "name": "stdout",
     "output_type": "stream",
     "text": [
      "20 Celsius is 68.0 Fahrenheit\n"
     ]
    }
   ],
   "source": [
    "#Problem Three: DMOJ problem wc17c1j2, How’s the Weather?\n",
    "# This program calculates the celsius based on the fahrenhiet value given\n",
    "# Formula : celsius = (5/9)*(fahrenhiet - 32)\n",
    "\n",
    "#fahrenheit = eval(input(\"Enter Celsius:\"))\n",
    "celsius = eval(input(\"Enter Celsius:\"))\n",
    "\n",
    "#celsius = 5 / 9 * (fahrenheit - 32)\n",
    "fahrenheit = (9 * celsius) / 5 + 32\n",
    "\n",
    "#print(f\"{fahrenheit} Fahrenheit is {celsius} Celsius.\")\n",
    "print(f\"{celsius} Celsius is {fahrenheit} Fahrenheit\")"
   ]
  },
  {
   "cell_type": "code",
   "execution_count": 1,
   "metadata": {},
   "outputs": [
    {
     "name": "stdout",
     "output_type": "stream",
     "text": [
      "spoooooky\n"
     ]
    }
   ],
   "source": [
    "#Problem Four: DMOJ problem wc16c1j1, A Spooky Season\n",
    "# This program repeats a set of characters in an input based on the uer request(input)\n",
    "\n",
    "number = int(input(\"Enter a number:\"))\n",
    "\n",
    "word = f\"sp{'o' * number}ky\"\n",
    "\n",
    "print(word)\n",
    "\n"
   ]
  },
  {
   "cell_type": "code",
   "execution_count": 8,
   "metadata": {},
   "outputs": [
    {
     "name": "stdout",
     "output_type": "stream",
     "text": [
      "A long time ago in a galaxy far away...\n"
     ]
    }
   ],
   "source": [
    "#Problem Five: DMOJ problem wc15c2j1, A New Hope\n",
    "# This program will print \"far\" N times\n",
    "\n",
    "number = int(input(\"Enter a Number:\"))\n",
    "\n",
    "text = f\"A long time ago in a galaxy {'far, ' * (number - 1)}far away...\"\n",
    "\n",
    "print(text)"
   ]
  },
  {
   "cell_type": "code",
   "execution_count": 10,
   "metadata": {},
   "outputs": [
    {
     "name": "stdout",
     "output_type": "stream",
     "text": [
      "The Oldest Child is 10 years old.\n"
     ]
    }
   ],
   "source": [
    "#Problem Six: DMOJ problem ccc13j1, Next in Line\n",
    "\n",
    "youngest_age = int(input(\"Enter the age of the youngest child:\"))\n",
    "middle_age = int(input(\"ENter the age of the middle child:\"))\n",
    "\n",
    "oldest_age = 2 * middle_age - youngest_age\n",
    "\n",
    "print(f\"The Oldest Child is {oldest_age} years old.\")"
   ]
  },
  {
   "cell_type": "code",
   "execution_count": 14,
   "metadata": {},
   "outputs": [
    {
     "name": "stdout",
     "output_type": "stream",
     "text": [
      "The Total Money is $42 Dollars\n"
     ]
    }
   ],
   "source": [
    "#Problem Seven: DMOJ problem wc18c3j1, An Honest Day’s Work\n",
    "\n",
    "paint_litres = int(input(\"Enter the amount of paint(litres):\"))\n",
    "bottle_caps = int(input(\"Enter the amount of litres(per badge):\"))\n",
    "poke_dollars = int(input(\"Enter the cost of each badge:\"))\n",
    "\n",
    "total_money = (paint_litres // bottle_caps * poke_dollars) + (paint_litres % bottle_caps)\n",
    "\n",
    "print(f\"The Total Money is ${total_money} Dollars\")\n"
   ]
  },
  {
   "cell_type": "markdown",
   "metadata": {},
   "source": [
    "# Making Decisions"
   ]
  },
  {
   "cell_type": "code",
   "execution_count": 15,
   "metadata": {},
   "outputs": [
    {
     "name": "stdout",
     "output_type": "stream",
     "text": [
      "Team A Won with 20 scores\n"
     ]
    }
   ],
   "source": [
    "#Problem Eight: DMOJ problem ccc19j1, Winning Team\n",
    "team_a_3 = int(input(\"Enter team A 3 point scores:\"))\n",
    "team_a_2 = int(input(\"Enter team A 2 point scores:\"))\n",
    "team_a_1 = int(input(\"Enter team A 1 point scores:\"))\n",
    "team_b_3 = int(input(\"Enter team B 3 point scores:\"))\n",
    "team_b_2 = int(input(\"Enter team B 2 point scores:\"))\n",
    "team_b_1 = int(input(\"Enter team B 1 point scores:\"))\n",
    "\n",
    "total_team_a_scores = team_a_3 * 3 + team_a_2 * 2 + team_a_3\n",
    "total_team_b_scores = team_b_3 * 3 + team_b_2 * 2 + team_b_3\n",
    "\n",
    "if total_team_a_scores > total_team_b_scores:\n",
    "    print(f\"Team A Won with {total_team_a_scores} scores\")\n",
    "elif total_team_b_scores > total_team_a_scores:\n",
    "    print(f\"Team B Won with {total_team_b_scores} scores\")\n",
    "else:\n",
    "    print(f\"Both Team A and B are tie with {total_team_b_scores} scores\")"
   ]
  },
  {
   "cell_type": "code",
   "execution_count": 22,
   "metadata": {},
   "outputs": [
    {
     "data": {
      "text/plain": [
       "4"
      ]
     },
     "execution_count": 22,
     "metadata": {},
     "output_type": "execute_result"
    }
   ],
   "source": [
    "1234 % 10"
   ]
  },
  {
   "cell_type": "code",
   "execution_count": 26,
   "metadata": {},
   "outputs": [
    {
     "name": "stdout",
     "output_type": "stream",
     "text": [
      "Answer\n"
     ]
    }
   ],
   "source": [
    "#Problem Nine: DMOJ problem ccc18j1, Telemarketers\n",
    "\n",
    "phone_number = int(input(\"Enter Phone Number:\"))\n",
    "\n",
    "digit_one = phone_number // 1000\n",
    "digit_two = phone_number // 100 % 10\n",
    "digit_three = phone_number // 10 % 10\n",
    "digit_four = phone_number % 10\n",
    "\n",
    "# Telemarketer number: first digit 8 or 9, fourth digit 8 or 9,\n",
    "# second digit and third digit are same\n",
    "\n",
    "if (digit_one == 8 or digit_one == 9) and \\\n",
    "    (digit_four == 8 or digit_four == 9) and \\\n",
    "    (digit_three == digit_two):\n",
    "    print(\"Ignore\")\n",
    "else:\n",
    "    print(\"Answer\")"
   ]
  },
  {
   "cell_type": "code",
   "execution_count": 33,
   "metadata": {},
   "outputs": [
    {
     "name": "stdout",
     "output_type": "stream",
     "text": [
      "\tHere are the three burger choices:      |Here are the three drink choices:\n",
      "            1 – Cheeseburger (461 Calories)         |1 – Soft Drink (130 Calories)\n",
      "            2 – Fish Burger (431 Calories)          |2 – Orange Juice (160 Calories)\n",
      "            3 – Veggie Burger (420 Calories)        |3 – Milk (118 Calories)\n",
      "            4 – no burger                           |4 – no drink\n",
      "          Here are the three side order choices:    |Here are the three dessert choices:\n",
      "            1 – Fries (100 Calories)                |1 – Apple Pie (167 Calories)\n",
      "            2 – Baked Potato (57 Calories)          |2 – Sundae (266 Calories)\n",
      "            3 – Chef Salad (70 Calories)            |3 – Fruit Cup (75 Calories)\n",
      "            4 – no side order                       |4 – no dessert\n",
      "Your total Calorie count is 649.\n"
     ]
    }
   ],
   "source": [
    "#Problem Ten: DMOJ problem ccc06j1, Canadian Calorie Counting\n",
    "\n",
    "menu = \"\"\"\\tHere are the three burger choices:      |Here are the three drink choices:\n",
    "            1 – Cheeseburger (461 Calories)         |1 – Soft Drink (130 Calories)\n",
    "            2 – Fish Burger (431 Calories)          |2 – Orange Juice (160 Calories)\n",
    "            3 – Veggie Burger (420 Calories)        |3 – Milk (118 Calories)\n",
    "            4 – no burger                           |4 – no drink\n",
    "          Here are the three side order choices:    |Here are the three dessert choices:\n",
    "            1 – Fries (100 Calories)                |1 – Apple Pie (167 Calories)\n",
    "            2 – Baked Potato (57 Calories)          |2 – Sundae (266 Calories)\n",
    "            3 – Chef Salad (70 Calories)            |3 – Fruit Cup (75 Calories)\n",
    "            4 – no side order                       |4 – no dessert\"\"\"    \n",
    "print(menu) \n",
    "\n",
    "choice_1 = int(input(\"Enter your choice from burger:\"))\n",
    "choice_2 = int(input(\"Enter your choice from side order:\"))\n",
    "choice_3 = int(input(\"Enter your choice from drink:\"))\n",
    "choice_4 = int(input(\"Enter your choice from dessert:\"))\n",
    "\n",
    "calories = 0\n",
    "\n",
    "if choice_1 == 1:\n",
    "    calories += 461\n",
    "elif choice_1 == 2:\n",
    "    calories += 431\n",
    "elif choice_1 == 3:\n",
    "    calories += 420\n",
    "elif choice_1 == 4:\n",
    "    calories += 0\n",
    "\n",
    "if choice_2 == 1:\n",
    "    calories += 100\n",
    "elif choice_2 == 2:\n",
    "    calories += 57\n",
    "elif choice_2 == 3:\n",
    "    calories += 70\n",
    "elif choice_2 == 4:\n",
    "    calories += 0\n",
    "\n",
    "if choice_3 == 1:\n",
    "    calories += 130\n",
    "elif choice_3 == 2:\n",
    "    calories += 160\n",
    "elif choice_3 == 3:\n",
    "    calories += 118\n",
    "elif choice_3 == 4:\n",
    "    calories += 0\n",
    "\n",
    "if choice_4 == 1:\n",
    "    calories += 167\n",
    "elif choice_4 == 2:\n",
    "    calories += 265\n",
    "elif choice_4 == 3:\n",
    "    calories += 75\n",
    "elif choice_4 == 4:\n",
    "    calories += 0\n",
    "\n",
    "print(f\"Your total Calorie count is {calories}.\")"
   ]
  },
  {
   "cell_type": "code",
   "execution_count": null,
   "metadata": {},
   "outputs": [],
   "source": [
    "#Problem Eleven: DMOJ problem ccc15j1, Special Day\n",
    "\n"
   ]
  },
  {
   "cell_type": "code",
   "execution_count": null,
   "metadata": {},
   "outputs": [],
   "source": [
    "#Problem Twelve: DMOJ problem ccc15j2, Happy or Sad"
   ]
  },
  {
   "cell_type": "code",
   "execution_count": null,
   "metadata": {},
   "outputs": [],
   "source": [
    "#Problem Thirteen: DMOJ problem dmopc16c1p0, C.C. and Cheese-kun"
   ]
  },
  {
   "cell_type": "code",
   "execution_count": null,
   "metadata": {},
   "outputs": [],
   "source": [
    "#Problem Fourteen: DMOJ problem ccc07j1, Who is in the Middle"
   ]
  },
  {
   "cell_type": "code",
   "execution_count": null,
   "metadata": {},
   "outputs": [],
   "source": [
    "#Problem Fifteen: DMOJ problem  hkccc15j1, Rock-paper-scissors"
   ]
  }
 ],
 "metadata": {
  "interpreter": {
   "hash": "aee8b7b246df8f9039afb4144a1f6fd8d2ca17a180786b69acc140d282b71a49"
  },
  "kernelspec": {
   "display_name": "Python 3.10.0 64-bit",
   "language": "python",
   "name": "python3"
  },
  "language_info": {
   "codemirror_mode": {
    "name": "ipython",
    "version": 3
   },
   "file_extension": ".py",
   "mimetype": "text/x-python",
   "name": "python",
   "nbconvert_exporter": "python",
   "pygments_lexer": "ipython3",
   "version": "3.10.0"
  },
  "orig_nbformat": 4
 },
 "nbformat": 4,
 "nbformat_minor": 2
}
