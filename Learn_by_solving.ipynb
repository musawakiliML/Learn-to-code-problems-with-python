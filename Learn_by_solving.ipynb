{
 "cells": [
  {
   "cell_type": "markdown",
   "metadata": {},
   "source": [
    "## Getting Started"
   ]
  },
  {
   "cell_type": "code",
   "execution_count": 4,
   "metadata": {},
   "outputs": [
    {
     "name": "stdout",
     "output_type": "stream",
     "text": [
      "The Sentence: 'my name is musa' has 4 words.\n"
     ]
    }
   ],
   "source": [
    "#Problem One : Word Count\n",
    "# This Program Checks the number of words in a sentence \n",
    "sentence = input(\"Enter a word:\")\n",
    "\n",
    "word_count = sentence.count(\" \") + 1\n",
    "\n",
    "print(f\"The Sentence: '{sentence}' has {word_count} words.\")\n"
   ]
  },
  {
   "cell_type": "code",
   "execution_count": 5,
   "metadata": {},
   "outputs": [
    {
     "name": "stdout",
     "output_type": "stream",
     "text": [
      "The volume of a Cone with 12 radius and 23 height is 3468.318289563131\n"
     ]
    }
   ],
   "source": [
    "#Problem Two: Cone Volume\n",
    "# This program calculates the volume of cone using the formula:(π * r^2 * h)/3\n",
    "import math\n",
    "\n",
    "radius = eval(input(\"Enter radius:\"))\n",
    "height = eval(input(\"Enter height:\"))\n",
    "\n",
    "volume = math.pi * (radius ** 2) * height / 3\n",
    "\n",
    "print(f\"The volume of a Cone with {radius} radius and {height} height is {volume}\")"
   ]
  },
  {
   "cell_type": "code",
   "execution_count": 7,
   "metadata": {},
   "outputs": [
    {
     "name": "stdout",
     "output_type": "stream",
     "text": [
      "20 Celsius is 68.0 Fahrenheit\n"
     ]
    }
   ],
   "source": [
    "#Problem Three: How's the Weather\n",
    "# This program calculates the celsius based on the fahrenhiet value given\n",
    "# Formula : celsius = (5/9)*(fahrenhiet - 32)\n",
    "\n",
    "#fahrenheit = eval(input(\"Enter Celsius:\"))\n",
    "celsius = eval(input(\"Enter Celsius:\"))\n",
    "\n",
    "#celsius = 5 / 9 * (fahrenheit - 32)\n",
    "fahrenheit = (9 * celsius) / 5 + 32\n",
    "\n",
    "#print(f\"{fahrenheit} Fahrenheit is {celsius} Celsius.\")\n",
    "print(f\"{celsius} Celsius is {fahrenheit} Fahrenheit\")"
   ]
  },
  {
   "cell_type": "code",
   "execution_count": 1,
   "metadata": {},
   "outputs": [
    {
     "name": "stdout",
     "output_type": "stream",
     "text": [
      "spoooooky\n"
     ]
    }
   ],
   "source": [
    "#Problem Four: A Spooky Season\n",
    "# This program repeats a set of characters in an input based on the uer request(input)\n",
    "\n",
    "number = int(input(\"Enter a number:\"))\n",
    "\n",
    "word = f\"sp{'o' * number}ky\"\n",
    "\n",
    "print(word)\n",
    "\n"
   ]
  },
  {
   "cell_type": "code",
   "execution_count": 8,
   "metadata": {},
   "outputs": [
    {
     "name": "stdout",
     "output_type": "stream",
     "text": [
      "A long time ago in a galaxy far away...\n"
     ]
    }
   ],
   "source": [
    "#Problem Five: A New Hope\n",
    "# This program will print \"far\" N times\n",
    "\n",
    "number = int(input(\"Enter a Number:\"))\n",
    "\n",
    "text = f\"A long time ago in a galaxy {'far, ' * (number - 1)}far away...\"\n",
    "\n",
    "print(text)"
   ]
  },
  {
   "cell_type": "code",
   "execution_count": null,
   "metadata": {},
   "outputs": [],
   "source": [
    "#Problem Six: Next in line\n"
   ]
  }
 ],
 "metadata": {
  "interpreter": {
   "hash": "aee8b7b246df8f9039afb4144a1f6fd8d2ca17a180786b69acc140d282b71a49"
  },
  "kernelspec": {
   "display_name": "Python 3.10.0 64-bit",
   "language": "python",
   "name": "python3"
  },
  "language_info": {
   "codemirror_mode": {
    "name": "ipython",
    "version": 3
   },
   "file_extension": ".py",
   "mimetype": "text/x-python",
   "name": "python",
   "nbconvert_exporter": "python",
   "pygments_lexer": "ipython3",
   "version": "3.10.0"
  },
  "orig_nbformat": 4
 },
 "nbformat": 4,
 "nbformat_minor": 2
}
