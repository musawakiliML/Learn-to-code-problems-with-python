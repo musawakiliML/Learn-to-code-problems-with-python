{
 "cells": [
  {
   "cell_type": "markdown",
   "metadata": {},
   "source": [
    "# Chapter Two: Making Decisions"
   ]
  },
  {
   "cell_type": "code",
   "execution_count": 4,
   "metadata": {},
   "outputs": [
    {
     "name": "stdout",
     "output_type": "stream",
     "text": [
      "I Love Python ❤️\n",
      "Coding is Fun 👍\n"
     ]
    }
   ],
   "source": [
    "import emoji\n",
    "\n",
    "print(emoji.emojize(\"I Love Python :red_heart:\"))\n",
    "print(emoji.emojize(\"Coding is Fun :thumbs_up:\"))"
   ]
  },
  {
   "cell_type": "markdown",
   "metadata": {},
   "source": [
    "## Problem Eight: DMOJ problem ccc19j1, Winning Team\n",
    "#### Link: [View Problem](https://dmoj.ca/problem/ccc19j1)"
   ]
  },
  {
   "cell_type": "code",
   "execution_count": null,
   "metadata": {},
   "outputs": [],
   "source": [
    "# This programs get the total point scored by Team A or B\n",
    "team_a_3 = int(input(\"Enter team A 3 point scores:\"))\n",
    "team_a_2 = int(input(\"Enter team A 2 point scores:\"))\n",
    "team_a_1 = int(input(\"Enter team A 1 point scores:\"))\n",
    "team_b_3 = int(input(\"Enter team B 3 point scores:\"))\n",
    "team_b_2 = int(input(\"Enter team B 2 point scores:\"))\n",
    "team_b_1 = int(input(\"Enter team B 1 point scores:\"))\n",
    "\n",
    "total_team_a_scores = team_a_3 * 3 + team_a_2 * 2 + team_a_3\n",
    "total_team_b_scores = team_b_3 * 3 + team_b_2 * 2 + team_b_3\n",
    "\n",
    "if total_team_a_scores > total_team_b_scores:\n",
    "    print(f\"Team A Won with {total_team_a_scores} scores\")\n",
    "elif total_team_b_scores > total_team_a_scores:\n",
    "    print(f\"Team B Won with {total_team_b_scores} scores\")\n",
    "else:\n",
    "    print(f\"Both Team A and B are tie with {total_team_b_scores} scores\")"
   ]
  },
  {
   "cell_type": "markdown",
   "metadata": {},
   "source": [
    "## Problem Nine: DMOJ problem ccc18j1, Telemarketers\n",
    "#### Link: [View Problem](https://dmoj.ca/problem/ccc18j1)"
   ]
  },
  {
   "cell_type": "code",
   "execution_count": null,
   "metadata": {},
   "outputs": [],
   "source": [
    "# This verifies whether a number is a telemarketer\n",
    "\n",
    "phone_number = int(input(\"Enter Phone Number:\"))\n",
    "\n",
    "digit_one = phone_number // 1000\n",
    "digit_two = phone_number // 100 % 10\n",
    "digit_three = phone_number // 10 % 10\n",
    "digit_four = phone_number % 10\n",
    "\n",
    "# Telemarketer number: first digit 8 or 9, fourth digit 8 or 9,\n",
    "# second digit and third digit are same\n",
    "\n",
    "if (digit_one == 8 or digit_one == 9) and \\\n",
    "    (digit_four == 8 or digit_four == 9) and \\\n",
    "    (digit_three == digit_two):\n",
    "    print(\"Ignore\")\n",
    "else:\n",
    "    print(\"Answer\")"
   ]
  },
  {
   "cell_type": "markdown",
   "metadata": {},
   "source": [
    "## Problem Nine: DMOJ problem ccc18j1, Telemarketers\n",
    "#### Link: [View Problem](https://dmoj.ca/problem/ccc18j1)"
   ]
  },
  {
   "cell_type": "code",
   "execution_count": null,
   "metadata": {},
   "outputs": [],
   "source": []
  }
 ],
 "metadata": {
  "kernelspec": {
   "display_name": "Python 3.10.0 64-bit",
   "language": "python",
   "name": "python3"
  },
  "language_info": {
   "codemirror_mode": {
    "name": "ipython",
    "version": 3
   },
   "file_extension": ".py",
   "mimetype": "text/x-python",
   "name": "python",
   "nbconvert_exporter": "python",
   "pygments_lexer": "ipython3",
   "version": "3.10.0"
  },
  "orig_nbformat": 4,
  "vscode": {
   "interpreter": {
    "hash": "aee8b7b246df8f9039afb4144a1f6fd8d2ca17a180786b69acc140d282b71a49"
   }
  }
 },
 "nbformat": 4,
 "nbformat_minor": 2
}
