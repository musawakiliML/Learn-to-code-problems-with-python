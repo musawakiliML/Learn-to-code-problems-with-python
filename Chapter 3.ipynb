{
 "cells": [
  {
   "cell_type": "markdown",
   "metadata": {},
   "source": [
    "# Chapter Three: Repeating Code - Definite Loops"
   ]
  },
  {
   "cell_type": "markdown",
   "metadata": {},
   "source": []
  },
  {
   "cell_type": "code",
   "execution_count": null,
   "metadata": {},
   "outputs": [],
   "source": [
    "# Problem Sixteen: Three Cups DMOJ problem coci06c5p1.\n",
    "\n",
    "user_input = input(\"Enter User Moves:\")\n",
    "\n",
    "ball_location = 1\n",
    "swap_type = ''\n",
    "\n",
    "for i in user_input:\n",
    "    swap_type = i\n",
    "    if swap_type == \"A\" and ball_location == 1:\n",
    "        ball_location = 2\n",
    "    elif swap_type == \"A\" and ball_location == 2:\n",
    "        ball_location = 1\n",
    "    elif swap_type == \"A\" and ball_location == 3:\n",
    "        ball_location = 3\n",
    "    elif swap_type == \"B\" and ball_location == 1:\n",
    "        ball_location = 1\n",
    "    elif swap_type == \"B\" and ball_location == 2:\n",
    "        ball_location = 3\n",
    "    elif swap_type == \"B\" and ball_location == 3:\n",
    "        ball_location = 2\n",
    "    elif swap_type == \"C\" and ball_location == 1:\n",
    "        ball_location = 3\n",
    "    elif swap_type == \"C\" and ball_location == 2:\n",
    "        ball_location = 2\n",
    "    elif swap_type == \"C\" and ball_location == 3:\n",
    "        ball_location = 1\n",
    "\n",
    "print(f\"Final Ball Location:{ball_location}\")\n",
    "\n"
   ]
  }
 ],
 "metadata": {
  "kernelspec": {
   "display_name": "Python 3.10.0 64-bit",
   "language": "python",
   "name": "python3"
  },
  "language_info": {
   "name": "python",
   "version": "3.10.0"
  },
  "orig_nbformat": 4,
  "vscode": {
   "interpreter": {
    "hash": "aee8b7b246df8f9039afb4144a1f6fd8d2ca17a180786b69acc140d282b71a49"
   }
  }
 },
 "nbformat": 4,
 "nbformat_minor": 2
}
