{
 "cells": [
  {
   "cell_type": "markdown",
   "metadata": {},
   "source": [
    "# Chapter Two: Making Decisions"
   ]
  },
  {
   "cell_type": "markdown",
   "metadata": {},
   "source": [
    "## Problem Eight: DMOJ problem ccc19j1, Winning Team\n",
    "#### Link: [View Problem](https://dmoj.ca/problem/ccc19j1)"
   ]
  },
  {
   "cell_type": "code",
   "execution_count": 1,
   "metadata": {},
   "outputs": [
    {
     "name": "stdout",
     "output_type": "stream",
     "text": [
      "Team A Won with 14 scores\n"
     ]
    }
   ],
   "source": [
    "# This programs get the total point scored by Team A or B\n",
    "team_a_3 = int(input(\"Enter team A 3 point scores:\"))\n",
    "team_a_2 = int(input(\"Enter team A 2 point scores:\"))\n",
    "team_a_1 = int(input(\"Enter team A 1 point scores:\"))\n",
    "team_b_3 = int(input(\"Enter team B 3 point scores:\"))\n",
    "team_b_2 = int(input(\"Enter team B 2 point scores:\"))\n",
    "team_b_1 = int(input(\"Enter team B 1 point scores:\"))\n",
    "\n",
    "total_team_a_scores = team_a_3 * 3 + team_a_2 * 2 + team_a_3\n",
    "total_team_b_scores = team_b_3 * 3 + team_b_2 * 2 + team_b_3\n",
    "\n",
    "if total_team_a_scores > total_team_b_scores:\n",
    "    print(f\"Team A Won with {total_team_a_scores} scores\")\n",
    "elif total_team_b_scores > total_team_a_scores:\n",
    "    print(f\"Team B Won with {total_team_b_scores} scores\")\n",
    "else:\n",
    "    print(f\"Both Team A and B are tie with {total_team_b_scores} scores\")"
   ]
  },
  {
   "cell_type": "markdown",
   "metadata": {},
   "source": [
    "## Problem Nine: DMOJ problem ccc18j1, Telemarketers\n",
    "#### Link: [View Problem](https://dmoj.ca/problem/ccc18j1)"
   ]
  },
  {
   "cell_type": "code",
   "execution_count": 2,
   "metadata": {},
   "outputs": [
    {
     "name": "stdout",
     "output_type": "stream",
     "text": [
      "Answer\n"
     ]
    }
   ],
   "source": [
    "# This verifies whether a number is a telemarketer\n",
    "\n",
    "phone_number = int(input(\"Enter Phone Number:\"))\n",
    "\n",
    "digit_one = phone_number // 1000\n",
    "digit_two = phone_number // 100 % 10\n",
    "digit_three = phone_number // 10 % 10\n",
    "digit_four = phone_number % 10\n",
    "\n",
    "# Telemarketer number: first digit 8 or 9, fourth digit 8 or 9,\n",
    "# second digit and third digit are same\n",
    "\n",
    "if (digit_one == 8 or digit_one == 9) and \\\n",
    "    (digit_four == 8 or digit_four == 9) and \\\n",
    "    (digit_three == digit_two):\n",
    "    print(\"Ignore\")\n",
    "else:\n",
    "    print(\"Answer\")"
   ]
  },
  {
   "cell_type": "markdown",
   "metadata": {},
   "source": [
    "## Problem Ten: DMOJ problem ccc06j1, Canadian Calorie Counting\n",
    "#### Link: [View Problem](https://dmoj.ca/problem/ccc06j1)"
   ]
  },
  {
   "cell_type": "code",
   "execution_count": 3,
   "metadata": {},
   "outputs": [
    {
     "name": "stdout",
     "output_type": "stream",
     "text": [
      "\tHere are the three burger choices:      |Here are the three drink choices:\n",
      "            1 – Cheeseburger (461 Calories)         |1 – Soft Drink (130 Calories)\n",
      "            2 – Fish Burger (431 Calories)          |2 – Orange Juice (160 Calories)\n",
      "            3 – Veggie Burger (420 Calories)        |3 – Milk (118 Calories)\n",
      "            4 – no burger                           |4 – no drink\n",
      "          Here are the three side order choices:    |Here are the three dessert choices:\n",
      "            1 – Fries (100 Calories)                |1 – Apple Pie (167 Calories)\n",
      "            2 – Baked Potato (57 Calories)          |2 – Sundae (266 Calories)\n",
      "            3 – Chef Salad (70 Calories)            |3 – Fruit Cup (75 Calories)\n",
      "            4 – no side order                       |4 – no dessert\n",
      "Your total Calorie count is 723.\n"
     ]
    }
   ],
   "source": [
    "# This program gets the amount of calories one consumed\n",
    "\n",
    "menu = \"\"\"\\tHere are the three burger choices:      |Here are the three drink choices:\n",
    "            1 – Cheeseburger (461 Calories)         |1 – Soft Drink (130 Calories)\n",
    "            2 – Fish Burger (431 Calories)          |2 – Orange Juice (160 Calories)\n",
    "            3 – Veggie Burger (420 Calories)        |3 – Milk (118 Calories)\n",
    "            4 – no burger                           |4 – no drink\n",
    "          Here are the three side order choices:    |Here are the three dessert choices:\n",
    "            1 – Fries (100 Calories)                |1 – Apple Pie (167 Calories)\n",
    "            2 – Baked Potato (57 Calories)          |2 – Sundae (266 Calories)\n",
    "            3 – Chef Salad (70 Calories)            |3 – Fruit Cup (75 Calories)\n",
    "            4 – no side order                       |4 – no dessert\"\"\"    \n",
    "print(menu) \n",
    "\n",
    "choice_1 = int(input(\"Enter your choice from burger:\"))\n",
    "choice_2 = int(input(\"Enter your choice from side order:\"))\n",
    "choice_3 = int(input(\"Enter your choice from drink:\"))\n",
    "choice_4 = int(input(\"Enter your choice from dessert:\"))\n",
    "\n",
    "calories = 0\n",
    "\n",
    "if choice_1 == 1:\n",
    "    calories += 461\n",
    "elif choice_1 == 2:\n",
    "    calories += 431\n",
    "elif choice_1 == 3:\n",
    "    calories += 420\n",
    "elif choice_1 == 4:\n",
    "    calories += 0\n",
    "\n",
    "if choice_2 == 1:\n",
    "    calories += 100\n",
    "elif choice_2 == 2:\n",
    "    calories += 57\n",
    "elif choice_2 == 3:\n",
    "    calories += 70\n",
    "elif choice_2 == 4:\n",
    "    calories += 0\n",
    "\n",
    "if choice_3 == 1:\n",
    "    calories += 130\n",
    "elif choice_3 == 2:\n",
    "    calories += 160\n",
    "elif choice_3 == 3:\n",
    "    calories += 118\n",
    "elif choice_3 == 4:\n",
    "    calories += 0\n",
    "\n",
    "if choice_4 == 1:\n",
    "    calories += 167\n",
    "elif choice_4 == 2:\n",
    "    calories += 265\n",
    "elif choice_4 == 3:\n",
    "    calories += 75\n",
    "elif choice_4 == 4:\n",
    "    calories += 0\n",
    "\n",
    "print(f\"Your total Calorie count is {calories}.\")"
   ]
  },
  {
   "cell_type": "markdown",
   "metadata": {},
   "source": [
    "## Problem Eleven: DMOJ problem ccc15j1, Special Day\n",
    "#### Link: [View Problem](https://dmoj.ca/problem/ccc15j1)"
   ]
  },
  {
   "cell_type": "code",
   "execution_count": null,
   "metadata": {},
   "outputs": [],
   "source": [
    "# This program gets the stage of day either after, before or special based on february\n",
    "\n",
    "month = eval(input(\"Enter Month in digits:\"))\n",
    "day = eval(input(\"Enter day in digits:\"))\n",
    "\n",
    "if (month >= 2 and day < 18) or (month >= 2 and day > 18):\n",
    "    print(\"After\")\n",
    "elif (month < 2 and day <= 18) or (month < 2 and day >= 18):\n",
    "    print(\"Before\")\n",
    "elif day == 18 and month == 2:\n",
    "    print(\"Special\")"
   ]
  },
  {
   "cell_type": "markdown",
   "metadata": {},
   "source": [
    "## Problem Twelve: DMOJ problem ccc15j2, Happy or Sad\n",
    "#### Link: [View Problem](https://dmoj.ca/problem/ccc15j2)"
   ]
  },
  {
   "cell_type": "code",
   "execution_count": null,
   "metadata": {},
   "outputs": [],
   "source": [
    "# This displays whether you are happy or sad\n",
    "\n",
    "text_message = input(\"Enter message:\")\n",
    "\n",
    "happy = \":-)\"\n",
    "sad = \":-(\"\n",
    "\n",
    "if text_message.count(happy) == 0 or text_message.count(sad) == 0:\n",
    "    print(\"None\")\n",
    "elif text_message.count(happy) == text_message.count(sad):\n",
    "    print(\"Unsure\")\n",
    "elif text_message.count(happy) > text_message.count(sad):\n",
    "    print(\"Happy\")\n",
    "elif text_message.count(happy) < text_message.count(sad):\n",
    "    print(\"Sad\")"
   ]
  },
  {
   "cell_type": "markdown",
   "metadata": {},
   "source": [
    "## Problem Thirteen: DMOJ problem dmopc16c1p0, C.C. and Cheese-kun\n",
    "#### Link: [View Problem](https://dmoj.ca/problem/dmopc16c1p0)"
   ]
  },
  {
   "cell_type": "code",
   "execution_count": null,
   "metadata": {},
   "outputs": [],
   "source": [
    "# Get the size and satifaction level of the pizza\n",
    "\n",
    "width = eval(input(\"Enter the width of the pizza:\"))\n",
    "percentage = eval(input(\"Enter the percentage covered by cheese:\"))\n",
    "\n",
    "if width == 3 and percentage >= 95:\n",
    "    print(f\"C.C. is absolutely satisfied with her pizza.\")\n",
    "elif width == 1 and percentage <= 50:\n",
    "    print(f\"C.C. is fairly satisfied with her pizza.\")\n",
    "else:\n",
    "    print(f\"C.C. is very satisfied with her pizza.\")"
   ]
  },
  {
   "cell_type": "markdown",
   "metadata": {},
   "source": [
    "## Problem Fourteen: DMOJ problem ccc07j1, Who is in the Middle\n",
    "#### Link: [View Problem](https://dmoj.ca/problem/ccc07j1)"
   ]
  },
  {
   "cell_type": "code",
   "execution_count": null,
   "metadata": {},
   "outputs": [],
   "source": [
    "# Get the middle weight program\n",
    "\n",
    "weight_1 = eval(input(\"Enter Weight 1:\"))\n",
    "weight_2 = eval(input(\"Enter Weight 2:\"))\n",
    "weight_3 = eval(input(\"Enter Weight 3:\"))\n",
    "\n",
    "if (weight_1 > weight_2) and (weight_1 > weight_3):\n",
    "    if weight_2 > weight_3:\n",
    "        print(weight_2)\n",
    "    else:\n",
    "        print(weight_3)\n",
    "elif (weight_2 > weight_1) and (weight_2 > weight_3):\n",
    "    if weight_1 > weight_3:\n",
    "        print(weight_1)\n",
    "    else:\n",
    "        print(weight_3)\n",
    "elif (weight_3 > weight_1) and (weight_3 > weight_2):\n",
    "    if weight_1 > weight_2:\n",
    "        print(weight_1)\n",
    "    else:\n",
    "        print(weight_2)"
   ]
  },
  {
   "cell_type": "markdown",
   "metadata": {},
   "source": [
    "## Problem Fifteen: DMOJ problem  hkccc15j1, Rock-paper-scissors\n",
    "#### Link: [View Problem](https://dmoj.ca/problem/hkccc15j1)"
   ]
  },
  {
   "cell_type": "code",
   "execution_count": null,
   "metadata": {},
   "outputs": [],
   "source": [
    "# Rock Paper Scissors game\n",
    "number_of_plays = int(input(\"Enter number of times to play:\"))\n",
    "user_1 = input(\"Enter Alice Moves:\")\n",
    "user_2 = input(\"Enter Bob Moves:\")\n",
    "\n",
    "\n",
    "user_1 = user_1.split()\n",
    "user_2 = user_2.split()\n",
    "\n",
    "alice_score = 0\n",
    "bob_score = 0\n",
    "\n",
    "for i in range(number_of_plays):\n",
    "\n",
    "    if user_1[i] == user_2[i]:\n",
    "        alice_score += 0\n",
    "        bob_score += 0\n",
    "        print(\"Draw\")\n",
    "    elif user_1[i] == \"rock\":\n",
    "        if user_2[i] == \"scissors\":\n",
    "            alice_score += 1\n",
    "            print(\"Alice wins!\")\n",
    "        else:\n",
    "            bob_score += 1\n",
    "            print(\"Bob Wins\")\n",
    "    elif user_1[i] == \"paper\":\n",
    "        if user_2[i] == \"rock\":\n",
    "            alice_score += 1\n",
    "            print(\"Alice wins\")\n",
    "        else:\n",
    "            bob_score += 1\n",
    "            print(\"Bob Wins\")\n",
    "    elif user_1[i] == \"scissors\":\n",
    "        if user_2[i] == \"paper\":\n",
    "            alice_score += 1\n",
    "            print(\"Alice Wins\")\n",
    "        else:\n",
    "            bob_score += 1\n",
    "            print(\"Bob wins\")\n",
    "print(f\"The result of {user_1} vs {user_2} \\n Alice wins:{alice_score} Bob Wins:{bob_score}\")\n",
    "    "
   ]
  }
 ],
 "metadata": {
  "kernelspec": {
   "display_name": "Python 3.10.0 64-bit",
   "language": "python",
   "name": "python3"
  },
  "language_info": {
   "codemirror_mode": {
    "name": "ipython",
    "version": 3
   },
   "file_extension": ".py",
   "mimetype": "text/x-python",
   "name": "python",
   "nbconvert_exporter": "python",
   "pygments_lexer": "ipython3",
   "version": "3.10.0"
  },
  "orig_nbformat": 4,
  "vscode": {
   "interpreter": {
    "hash": "aee8b7b246df8f9039afb4144a1f6fd8d2ca17a180786b69acc140d282b71a49"
   }
  }
 },
 "nbformat": 4,
 "nbformat_minor": 2
}
