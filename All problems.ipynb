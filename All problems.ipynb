{
 "cells": [
  {
   "cell_type": "markdown",
   "metadata": {},
   "source": [
    "## Getting Started"
   ]
  },
  {
   "cell_type": "code",
   "execution_count": 18,
   "metadata": {},
   "outputs": [
    {
     "name": "stdout",
     "output_type": "stream",
     "text": [
      "I Love Python ❤️\n"
     ]
    }
   ],
   "source": [
    "import emoji\n",
    "\n",
    "print(emoji.emojize(\"I Love Python :red_heart:\"))"
   ]
  },
  {
   "cell_type": "code",
   "execution_count": 4,
   "metadata": {},
   "outputs": [
    {
     "name": "stdout",
     "output_type": "stream",
     "text": [
      "The Sentence: 'my name is musa' has 4 words.\n"
     ]
    }
   ],
   "source": [
    "#Problem One :  DMOJ problem dmopc15c7p2, Word Count\n",
    "# This Program Checks the number of words in a sentence \n",
    "sentence = input(\"Enter a word:\")\n",
    "\n",
    "word_count = sentence.count(\" \") + 1\n",
    "\n",
    "print(f\"The Sentence: '{sentence}' has {word_count} words.\")\n"
   ]
  },
  {
   "cell_type": "code",
   "execution_count": 5,
   "metadata": {},
   "outputs": [
    {
     "name": "stdout",
     "output_type": "stream",
     "text": [
      "The volume of a Cone with 12 radius and 23 height is 3468.318289563131\n"
     ]
    }
   ],
   "source": [
    "#Problem Two: DMOJ problem dmopc14c5p1, Cone Volume\n",
    "# This program calculates the volume of cone using the formula:(π * r^2 * h)/3\n",
    "import math\n",
    "\n",
    "radius = eval(input(\"Enter radius:\"))\n",
    "height = eval(input(\"Enter height:\"))\n",
    "\n",
    "volume = math.pi * (radius ** 2) * height / 3\n",
    "\n",
    "print(f\"The volume of a Cone with {radius} radius and {height} height is {volume}\")"
   ]
  },
  {
   "cell_type": "code",
   "execution_count": 7,
   "metadata": {},
   "outputs": [
    {
     "name": "stdout",
     "output_type": "stream",
     "text": [
      "20 Celsius is 68.0 Fahrenheit\n"
     ]
    }
   ],
   "source": [
    "#Problem Three: DMOJ problem wc17c1j2, How’s the Weather?\n",
    "# This program calculates the celsius based on the fahrenhiet value given\n",
    "# Formula : celsius = (5/9)*(fahrenhiet - 32)\n",
    "\n",
    "#fahrenheit = eval(input(\"Enter Celsius:\"))\n",
    "celsius = eval(input(\"Enter Celsius:\"))\n",
    "\n",
    "#celsius = 5 / 9 * (fahrenheit - 32)\n",
    "fahrenheit = (9 * celsius) / 5 + 32\n",
    "\n",
    "#print(f\"{fahrenheit} Fahrenheit is {celsius} Celsius.\")\n",
    "print(f\"{celsius} Celsius is {fahrenheit} Fahrenheit\")"
   ]
  },
  {
   "cell_type": "code",
   "execution_count": 1,
   "metadata": {},
   "outputs": [
    {
     "name": "stdout",
     "output_type": "stream",
     "text": [
      "spoooooky\n"
     ]
    }
   ],
   "source": [
    "#Problem Four: DMOJ problem wc16c1j1, A Spooky Season\n",
    "# This program repeats a set of characters in an input based on the uer request(input)\n",
    "\n",
    "number = int(input(\"Enter a number:\"))\n",
    "\n",
    "word = f\"sp{'o' * number}ky\"\n",
    "\n",
    "print(word)\n",
    "\n"
   ]
  },
  {
   "cell_type": "code",
   "execution_count": 8,
   "metadata": {},
   "outputs": [
    {
     "name": "stdout",
     "output_type": "stream",
     "text": [
      "A long time ago in a galaxy far away...\n"
     ]
    }
   ],
   "source": [
    "#Problem Five: DMOJ problem wc15c2j1, A New Hope\n",
    "# This program will print \"far\" N times\n",
    "\n",
    "number = int(input(\"Enter a Number:\"))\n",
    "\n",
    "text = f\"A long time ago in a galaxy {'far, ' * (number - 1)}far away...\"\n",
    "\n",
    "print(text)"
   ]
  },
  {
   "cell_type": "code",
   "execution_count": 10,
   "metadata": {},
   "outputs": [
    {
     "name": "stdout",
     "output_type": "stream",
     "text": [
      "The Oldest Child is 10 years old.\n"
     ]
    }
   ],
   "source": [
    "#Problem Six: DMOJ problem ccc13j1, Next in Line\n",
    "\n",
    "youngest_age = int(input(\"Enter the age of the youngest child:\"))\n",
    "middle_age = int(input(\"ENter the age of the middle child:\"))\n",
    "\n",
    "oldest_age = 2 * middle_age - youngest_age\n",
    "\n",
    "print(f\"The Oldest Child is {oldest_age} years old.\")"
   ]
  },
  {
   "cell_type": "code",
   "execution_count": 14,
   "metadata": {},
   "outputs": [
    {
     "name": "stdout",
     "output_type": "stream",
     "text": [
      "The Total Money is $42 Dollars\n"
     ]
    }
   ],
   "source": [
    "#Problem Seven: DMOJ problem wc18c3j1, An Honest Day’s Work\n",
    "\n",
    "paint_litres = int(input(\"Enter the amount of paint(litres):\"))\n",
    "bottle_caps = int(input(\"Enter the amount of litres(per badge):\"))\n",
    "poke_dollars = int(input(\"Enter the cost of each badge:\"))\n",
    "\n",
    "total_money = (paint_litres // bottle_caps * poke_dollars) + (paint_litres % bottle_caps)\n",
    "\n",
    "print(f\"The Total Money is ${total_money} Dollars\")\n"
   ]
  },
  {
   "cell_type": "markdown",
   "metadata": {},
   "source": [
    "# Making Decisions"
   ]
  },
  {
   "cell_type": "code",
   "execution_count": 15,
   "metadata": {},
   "outputs": [
    {
     "name": "stdout",
     "output_type": "stream",
     "text": [
      "Team A Won with 20 scores\n"
     ]
    }
   ],
   "source": [
    "#Problem Eight: DMOJ problem ccc19j1, Winning Team\n",
    "team_a_3 = int(input(\"Enter team A 3 point scores:\"))\n",
    "team_a_2 = int(input(\"Enter team A 2 point scores:\"))\n",
    "team_a_1 = int(input(\"Enter team A 1 point scores:\"))\n",
    "team_b_3 = int(input(\"Enter team B 3 point scores:\"))\n",
    "team_b_2 = int(input(\"Enter team B 2 point scores:\"))\n",
    "team_b_1 = int(input(\"Enter team B 1 point scores:\"))\n",
    "\n",
    "total_team_a_scores = team_a_3 * 3 + team_a_2 * 2 + team_a_3\n",
    "total_team_b_scores = team_b_3 * 3 + team_b_2 * 2 + team_b_3\n",
    "\n",
    "if total_team_a_scores > total_team_b_scores:\n",
    "    print(f\"Team A Won with {total_team_a_scores} scores\")\n",
    "elif total_team_b_scores > total_team_a_scores:\n",
    "    print(f\"Team B Won with {total_team_b_scores} scores\")\n",
    "else:\n",
    "    print(f\"Both Team A and B are tie with {total_team_b_scores} scores\")"
   ]
  },
  {
   "cell_type": "code",
   "execution_count": 22,
   "metadata": {},
   "outputs": [
    {
     "data": {
      "text/plain": [
       "4"
      ]
     },
     "execution_count": 22,
     "metadata": {},
     "output_type": "execute_result"
    }
   ],
   "source": [
    "1234 % 10"
   ]
  },
  {
   "cell_type": "code",
   "execution_count": 26,
   "metadata": {},
   "outputs": [
    {
     "name": "stdout",
     "output_type": "stream",
     "text": [
      "Answer\n"
     ]
    }
   ],
   "source": [
    "#Problem Nine: DMOJ problem ccc18j1, Telemarketers\n",
    "\n",
    "phone_number = int(input(\"Enter Phone Number:\"))\n",
    "\n",
    "digit_one = phone_number // 1000\n",
    "digit_two = phone_number // 100 % 10\n",
    "digit_three = phone_number // 10 % 10\n",
    "digit_four = phone_number % 10\n",
    "\n",
    "# Telemarketer number: first digit 8 or 9, fourth digit 8 or 9,\n",
    "# second digit and third digit are same\n",
    "\n",
    "if (digit_one == 8 or digit_one == 9) and \\\n",
    "    (digit_four == 8 or digit_four == 9) and \\\n",
    "    (digit_three == digit_two):\n",
    "    print(\"Ignore\")\n",
    "else:\n",
    "    print(\"Answer\")"
   ]
  },
  {
   "cell_type": "code",
   "execution_count": 33,
   "metadata": {},
   "outputs": [
    {
     "name": "stdout",
     "output_type": "stream",
     "text": [
      "\tHere are the three burger choices:      |Here are the three drink choices:\n",
      "            1 – Cheeseburger (461 Calories)         |1 – Soft Drink (130 Calories)\n",
      "            2 – Fish Burger (431 Calories)          |2 – Orange Juice (160 Calories)\n",
      "            3 – Veggie Burger (420 Calories)        |3 – Milk (118 Calories)\n",
      "            4 – no burger                           |4 – no drink\n",
      "          Here are the three side order choices:    |Here are the three dessert choices:\n",
      "            1 – Fries (100 Calories)                |1 – Apple Pie (167 Calories)\n",
      "            2 – Baked Potato (57 Calories)          |2 – Sundae (266 Calories)\n",
      "            3 – Chef Salad (70 Calories)            |3 – Fruit Cup (75 Calories)\n",
      "            4 – no side order                       |4 – no dessert\n",
      "Your total Calorie count is 649.\n"
     ]
    }
   ],
   "source": [
    "#Problem Ten: DMOJ problem ccc06j1, Canadian Calorie Counting\n",
    "\n",
    "menu = \"\"\"\\tHere are the three burger choices:      |Here are the three drink choices:\n",
    "            1 – Cheeseburger (461 Calories)         |1 – Soft Drink (130 Calories)\n",
    "            2 – Fish Burger (431 Calories)          |2 – Orange Juice (160 Calories)\n",
    "            3 – Veggie Burger (420 Calories)        |3 – Milk (118 Calories)\n",
    "            4 – no burger                           |4 – no drink\n",
    "          Here are the three side order choices:    |Here are the three dessert choices:\n",
    "            1 – Fries (100 Calories)                |1 – Apple Pie (167 Calories)\n",
    "            2 – Baked Potato (57 Calories)          |2 – Sundae (266 Calories)\n",
    "            3 – Chef Salad (70 Calories)            |3 – Fruit Cup (75 Calories)\n",
    "            4 – no side order                       |4 – no dessert\"\"\"    \n",
    "print(menu) \n",
    "\n",
    "choice_1 = int(input(\"Enter your choice from burger:\"))\n",
    "choice_2 = int(input(\"Enter your choice from side order:\"))\n",
    "choice_3 = int(input(\"Enter your choice from drink:\"))\n",
    "choice_4 = int(input(\"Enter your choice from dessert:\"))\n",
    "\n",
    "calories = 0\n",
    "\n",
    "if choice_1 == 1:\n",
    "    calories += 461\n",
    "elif choice_1 == 2:\n",
    "    calories += 431\n",
    "elif choice_1 == 3:\n",
    "    calories += 420\n",
    "elif choice_1 == 4:\n",
    "    calories += 0\n",
    "\n",
    "if choice_2 == 1:\n",
    "    calories += 100\n",
    "elif choice_2 == 2:\n",
    "    calories += 57\n",
    "elif choice_2 == 3:\n",
    "    calories += 70\n",
    "elif choice_2 == 4:\n",
    "    calories += 0\n",
    "\n",
    "if choice_3 == 1:\n",
    "    calories += 130\n",
    "elif choice_3 == 2:\n",
    "    calories += 160\n",
    "elif choice_3 == 3:\n",
    "    calories += 118\n",
    "elif choice_3 == 4:\n",
    "    calories += 0\n",
    "\n",
    "if choice_4 == 1:\n",
    "    calories += 167\n",
    "elif choice_4 == 2:\n",
    "    calories += 265\n",
    "elif choice_4 == 3:\n",
    "    calories += 75\n",
    "elif choice_4 == 4:\n",
    "    calories += 0\n",
    "\n",
    "print(f\"Your total Calorie count is {calories}.\")"
   ]
  },
  {
   "cell_type": "code",
   "execution_count": 3,
   "metadata": {},
   "outputs": [
    {
     "name": "stdout",
     "output_type": "stream",
     "text": [
      "Special\n"
     ]
    }
   ],
   "source": [
    "#Problem Eleven: DMOJ problem ccc15j1, Special Day\n",
    "\n",
    "month = eval(input(\"Enter Month in digits:\"))\n",
    "day = eval(input(\"Enter day in digits:\"))\n",
    "\n",
    "if (month >= 2 and day < 18) or (month >= 2 and day > 18):\n",
    "    print(\"After\")\n",
    "elif (month < 2 and day <= 18) or (month < 2 and day >= 18):\n",
    "    print(\"Before\")\n",
    "elif day == 18 and month == 2:\n",
    "    print(\"Special\")\n"
   ]
  },
  {
   "cell_type": "code",
   "execution_count": 7,
   "metadata": {},
   "outputs": [
    {
     "name": "stdout",
     "output_type": "stream",
     "text": [
      "Unsure\n"
     ]
    }
   ],
   "source": [
    "#Problem Twelve: DMOJ problem ccc15j2, Happy or Sad\n",
    "\n",
    "text_message = input(\"Enter message:\")\n",
    "\n",
    "happy = \":-)\"\n",
    "sad = \":-(\"\n",
    "\n",
    "if text_message.count(happy) == 0 or text_message.count(sad) == 0:\n",
    "    print(\"None\")\n",
    "elif text_message.count(happy) == text_message.count(sad):\n",
    "    print(\"Unsure\")\n",
    "elif text_message.count(happy) > text_message.count(sad):\n",
    "    print(\"Happy\")\n",
    "elif text_message.count(happy) < text_message.count(sad):\n",
    "    print(\"Sad\")"
   ]
  },
  {
   "cell_type": "code",
   "execution_count": 8,
   "metadata": {},
   "outputs": [
    {
     "name": "stdout",
     "output_type": "stream",
     "text": [
      "C.C. is very satisfied with her pizza.\n"
     ]
    }
   ],
   "source": [
    "#Problem Thirteen: DMOJ problem dmopc16c1p0, C.C. and Cheese-kun\n",
    "\n",
    "width = eval(input(\"Enter the width of the pizza:\"))\n",
    "percentage = eval(input(\"Enter the percentage covered by cheese:\"))\n",
    "\n",
    "if width == 3 and percentage >= 95:\n",
    "    print(f\"C.C. is absolutely satisfied with her pizza.\")\n",
    "elif width == 1 and percentage <= 50:\n",
    "    print(f\"C.C. is fairly satisfied with her pizza.\")\n",
    "else:\n",
    "    print(f\"C.C. is very satisfied with her pizza.\")"
   ]
  },
  {
   "cell_type": "code",
   "execution_count": 16,
   "metadata": {},
   "outputs": [
    {
     "name": "stdout",
     "output_type": "stream",
     "text": [
      "8\n"
     ]
    }
   ],
   "source": [
    "#Problem Fourteen: DMOJ problem ccc07j1, Who is in the Middle\n",
    "\n",
    "weight_1 = eval(input(\"Enter Weight 1:\"))\n",
    "weight_2 = eval(input(\"Enter Weight 2:\"))\n",
    "weight_3 = eval(input(\"Enter Weight 3:\"))\n",
    "\n",
    "if (weight_1 > weight_2) and (weight_1 > weight_3):\n",
    "    if weight_2 > weight_3:\n",
    "        print(weight_2)\n",
    "    else:\n",
    "        print(weight_3)\n",
    "elif (weight_2 > weight_1) and (weight_2 > weight_3):\n",
    "    if weight_1 > weight_3:\n",
    "        print(weight_1)\n",
    "    else:\n",
    "        print(weight_3)\n",
    "elif (weight_3 > weight_1) and (weight_3 > weight_2):\n",
    "    if weight_1 > weight_2:\n",
    "        print(weight_1)\n",
    "    else:\n",
    "        print(weight_2)"
   ]
  },
  {
   "cell_type": "code",
   "execution_count": 6,
   "metadata": {},
   "outputs": [
    {
     "name": "stdout",
     "output_type": "stream",
     "text": [
      "Alice wins\n",
      "Alice wins!\n",
      "Draw\n",
      "Bob wins\n",
      "The result of ['paper', 'rock', 'rock', 'scissors'] vs ['rock', 'scissors', 'rock', 'rock'] \n",
      " Alice wins:2 Bob Wins:1\n"
     ]
    }
   ],
   "source": [
    "#Problem Fifteen: DMOJ problem  hkccc15j1, Rock-paper-scissors\n",
    "number_of_plays = int(input(\"Enter number of times to play:\"))\n",
    "user_1 = input(\"Enter Alice Moves:\")\n",
    "user_2 = input(\"Enter Bob Moves:\")\n",
    "\n",
    "\n",
    "user_1 = user_1.split()\n",
    "user_2 = user_2.split()\n",
    "\n",
    "alice_score = 0\n",
    "bob_score = 0\n",
    "\n",
    "for i in range(number_of_plays):\n",
    "\n",
    "    if user_1[i] == user_2[i]:\n",
    "        alice_score += 0\n",
    "        bob_score += 0\n",
    "        print(\"Draw\")\n",
    "    elif user_1[i] == \"rock\":\n",
    "        if user_2[i] == \"scissors\":\n",
    "            alice_score += 1\n",
    "            print(\"Alice wins!\")\n",
    "        else:\n",
    "            bob_score += 1\n",
    "            print(\"Bob Wins\")\n",
    "    elif user_1[i] == \"paper\":\n",
    "        if user_2[i] == \"rock\":\n",
    "            alice_score += 1\n",
    "            print(\"Alice wins\")\n",
    "        else:\n",
    "            bob_score += 1\n",
    "            print(\"Bob Wins\")\n",
    "    elif user_1[i] == \"scissors\":\n",
    "        if user_2[i] == \"paper\":\n",
    "            alice_score += 1\n",
    "            print(\"Alice Wins\")\n",
    "        else:\n",
    "            bob_score += 1\n",
    "            print(\"Bob wins\")\n",
    "print(f\"The result of {user_1} vs {user_2} \\n Alice wins:{alice_score} Bob Wins:{bob_score}\")\n",
    "    "
   ]
  },
  {
   "cell_type": "markdown",
   "metadata": {},
   "source": [
    "# Repeating Code: Definite Loops"
   ]
  },
  {
   "cell_type": "code",
   "execution_count": 8,
   "metadata": {},
   "outputs": [
    {
     "name": "stdout",
     "output_type": "stream",
     "text": [
      "Final Ball Location:1\n"
     ]
    }
   ],
   "source": [
    "# Problem Sixteen: Three Cups DMOJ problem coci06c5p1.\n",
    "\n",
    "user_input = input(\"Enter User Moves:\")\n",
    "\n",
    "ball_location = 1\n",
    "swap_type = ''\n",
    "\n",
    "for i in user_input:\n",
    "    swap_type = i\n",
    "    if swap_type == \"A\" and ball_location == 1:\n",
    "        ball_location = 2\n",
    "    elif swap_type == \"A\" and ball_location == 2:\n",
    "        ball_location = 1\n",
    "    elif swap_type == \"A\" and ball_location == 3:\n",
    "        ball_location = 3\n",
    "    elif swap_type == \"B\" and ball_location == 1:\n",
    "        ball_location = 1\n",
    "    elif swap_type == \"B\" and ball_location == 2:\n",
    "        ball_location = 3\n",
    "    elif swap_type == \"B\" and ball_location == 3:\n",
    "        ball_location = 2\n",
    "    elif swap_type == \"C\" and ball_location == 1:\n",
    "        ball_location = 3\n",
    "    elif swap_type == \"C\" and ball_location == 2:\n",
    "        ball_location = 2\n",
    "    elif swap_type == \"C\" and ball_location == 3:\n",
    "        ball_location = 1\n",
    "\n",
    "print(f\"Final Ball Location:{ball_location}\")\n",
    "\n"
   ]
  },
  {
   "cell_type": "code",
   "execution_count": 11,
   "metadata": {},
   "outputs": [
    {
     "name": "stdout",
     "output_type": "stream",
     "text": [
      "4\n"
     ]
    }
   ],
   "source": [
    "#Problem Seventeen: Occupied Spaces DMOJ problem ccc18j2.\n",
    "number_of_parking_space = int(input(\"Enter number of parking space:\"))\n",
    "\n",
    "yesterday_info = input(\"Enter the information of yesterday:\")\n",
    "today_info = input(\"Enter the information of today:\")\n",
    "\n",
    "space_occupied_by_both = 0\n",
    "\n",
    "for i in range(number_of_parking_space):\n",
    "    if yesterday_info[i] == \"C\" and today_info[i] == \"C\":\n",
    "        space_occupied_by_both += 1\n",
    "print(space_occupied_by_both)\n"
   ]
  },
  {
   "cell_type": "code",
   "execution_count": 17,
   "metadata": {},
   "outputs": [
    {
     "name": "stdout",
     "output_type": "stream",
     "text": [
      "The Total Available Data is:15\n"
     ]
    }
   ],
   "source": [
    "#Problem Eighteen: Data Plan DMOJ problem coci16c1p1.\n",
    "total_megabytes = int(input(\"Enter the Total Megabytes:\"))\n",
    "months = int(input(\"Enter the number of months:\"))\n",
    "\n",
    "excess_data = 0\n",
    "\n",
    "for i in range(1, months+1):\n",
    "    used_data = int(input(\"Enter used data:\"))\n",
    "    excess_data = (total_megabytes + excess_data) - used_data\n",
    "    if i == months:\n",
    "        excess_data += total_megabytes\n",
    "\n",
    "\n",
    "print(f\"The Total Available Data is:{excess_data}\") \n"
   ]
  },
  {
   "cell_type": "code",
   "execution_count": 9,
   "metadata": {},
   "outputs": [
    {
     "name": "stdout",
     "output_type": "stream",
     "text": [
      "Valid\n",
      "The Password:abcABC123 \n",
      "3 3 3\n"
     ]
    }
   ],
   "source": [
    "#Problem Nineteen: DMOJ problem wc17c3j3, Uncrackable\n",
    "user_password = input(\"Enter password to test:\")\n",
    "\n",
    "count_upper = 0\n",
    "count_lower = 0\n",
    "count_digit = 0\n",
    "\n",
    "if (len(user_password) >= 8) or (len(user_password) <= 12):\n",
    "    for char in user_password:\n",
    "        if char.isupper():\n",
    "            count_upper += 1\n",
    "        if char.islower():\n",
    "            count_lower += 1\n",
    "        if char.isdigit():\n",
    "            count_digit += 1\n",
    "if (count_digit >= 1) and (count_upper >= 2) and (count_lower >= 3):\n",
    "    print(\"Valid\")\n",
    "else:\n",
    "    print(\"Invalid\")\n",
    "print(f\"The Password:{user_password} \")\n",
    "print(count_digit, count_lower, count_upper)"
   ]
  },
  {
   "cell_type": "code",
   "execution_count": 37,
   "metadata": {},
   "outputs": [
    {
     "name": "stdout",
     "output_type": "stream",
     "text": [
      "H\n",
      "HO\n",
      "HON\n",
      "HONI\n",
      "HONI\n",
      "I\n",
      "HHHHOOOONNNNIIII\n",
      "1\n"
     ]
    }
   ],
   "source": [
    "# Problem Twenty: DMOJ problem coci18c3p1, Magnus (HONI-block)\n",
    "word  = input(\"Enter a word of any lenght:\")\n",
    "\n",
    "word = word.upper()\n",
    "h_count = 0\n",
    "o_count = 0\n",
    "n_count = 0\n",
    "i_count = 0\n",
    "block = \"\"\n",
    "honi_block_count = 0\n",
    "for letter in word:\n",
    "    #print(letter)\n",
    "    if letter == \"H\":\n",
    "        h_count += 1\n",
    "    if letter == \"O\":\n",
    "        o_count += 1\n",
    "    if letter == \"N\":\n",
    "        n_count += 1\n",
    "    if letter == \"I\":\n",
    "        i_count += 1\n",
    "    \n",
    "    if h_count == 1 and letter == \"H\":\n",
    "        block += letter\n",
    "        print(block)\n",
    "    elif o_count == 1 and letter == \"O\":\n",
    "        block += letter\n",
    "        print(block)\n",
    "    elif n_count == 1  and letter == \"N\":\n",
    "        block += letter\n",
    "        print(block)\n",
    "    elif i_count == 1 and letter == \"I\":\n",
    "        block += letter\n",
    "        print(block)\n",
    "    \n",
    "    if block == \"HONI\":\n",
    "        honi_block_count += 1\n",
    "        print(block)\n",
    "        block = \"\"\n",
    "        i_count = 0\n",
    "        h_count = 0\n",
    "        n_count = 0\n",
    "        o_count = 0\n",
    "print(word)\n",
    "print(honi_block_count)\n",
    "#print(word, h_count, i_count, o_count, n_count, honi_block_count)\n",
    "#print(block)\n"
   ]
  },
  {
   "cell_type": "code",
   "execution_count": 33,
   "metadata": {},
   "outputs": [
    {
     "data": {
      "text/plain": [
       "'g'"
      ]
     },
     "execution_count": 33,
     "metadata": {},
     "output_type": "execute_result"
    }
   ],
   "source": [
    "block"
   ]
  },
  {
   "cell_type": "code",
   "execution_count": 38,
   "metadata": {},
   "outputs": [
    {
     "name": "stdout",
     "output_type": "stream",
     "text": [
      "__main__\n"
     ]
    }
   ],
   "source": []
  },
  {
   "cell_type": "code",
   "execution_count": null,
   "metadata": {},
   "outputs": [],
   "source": [
    "#Problem Twenty One: DMOJ problem ccc11s1, English or French"
   ]
  },
  {
   "cell_type": "code",
   "execution_count": null,
   "metadata": {},
   "outputs": [],
   "source": [
    "#Problem Twenty Two: DMOJ problem ccc11s2, Multiple Choice"
   ]
  },
  {
   "cell_type": "markdown",
   "metadata": {},
   "source": [
    "\n",
    "Exercises\n",
    "\n",
    "4. \n",
    "5. DMOJ problem coci12c5p1, Ljestvica\n",
    "6. DMOJ problem coci13c3p1, Rijeci\n",
    "7. DMOJ problem coci18c4p1, Elder"
   ]
  },
  {
   "cell_type": "markdown",
   "metadata": {},
   "source": [
    "# Repeating Code: Indefinite Loops"
   ]
  },
  {
   "cell_type": "markdown",
   "metadata": {},
   "source": [
    "1. Problem #8: Slot Machines DMOJ problem ccc00s1.\n",
    "2. Problem #9: Song Playlist DMOJ problem ccc08j2.\n",
    "3. Problem #10: Secret Sentence DMOJ problem coci08c3p2.\n",
    "    Exercises\n",
    "1. DMOJ problem ccc20j2, Epidemiology\n",
    "2. DMOJ problem coci08c1p2, Ptice\n",
    "3. DMOJ problem ccc02j2, AmeriCanadian\n",
    "4. DMOJ problem ecoo13r1p1, Take a Number\n",
    "5. DMOJ problem ecoo15r1p1, When You Eat Your Smarties\n",
    "6. DMOJ problem ccc19j3, Cold Compress"
   ]
  },
  {
   "cell_type": "markdown",
   "metadata": {},
   "source": [
    "# Organizing Values Using Lists"
   ]
  },
  {
   "cell_type": "markdown",
   "metadata": {},
   "source": [
    "Problem #11: Village Neighborhood DMOJ problem ccc18s1.\n",
    "Problem #12: School Trip DMOJ problem ecoo17r1p1.\n",
    "Problem #13: Baker Bonus DMOJ problem ecoo17r3p1.\n",
    "\n",
    "1. DMOJ problem ccc07j3, Deal or No Deal Calculator\n",
    "2. DMOJ problem coci17c1p1, Cezar\n",
    "3. DMOJ problem coci18c2p1, Preokret\n",
    "4. DMOJ problem ccc00s2, Babbling Brooks (Check out Python’s round\n",
    "function.)\n",
    "5. DMOJ problem ecoo18r1p1, Willow’s Wild Ride\n",
    "6. DMOJ problem ecoo19r1p1, Free Shirts\n",
    "7. DMOJ problem dmopc14c7p2, Tides\n",
    "8. DMOJ problem wac3p3, Wesley Plays DDR\n",
    "9. DMOJ problem ecoo18r1p2, Rue’s Rings (If you use f-strings here,\n",
    "you’ll need a way to include the { and } symbols themselves. You can\n",
    "include a { in the f-string by using {{ and a } by using }}.)\n",
    "10. DMOJ problem coci19c5p1, Emacs\n",
    "11. DMOJ problem coci20c2p1, Crtanje (You’ll need to support rows\n",
    "from –100 to 100. But how do we support negative-indexed rows\n",
    "when Python lists start at index 0? Here’s a trick: use index x + 100\n",
    "any time you need access to row x. That shifts the row numbers to\n",
    "be between 0 and 200 rather than between –100 and 100. Also, one\n",
    "small annoyance here with strings: \\ is a special character, so you’ll\n",
    "have to use '\\\\' rather than '\\' if you want a \\ character.)\n",
    "12. DMOJ problem dmopc19c5p2, Charlie’s Crazy Conquest (You’ll have to\n",
    "be careful with indices and the game rules for this one!)\n"
   ]
  },
  {
   "cell_type": "markdown",
   "metadata": {},
   "source": [
    "# Designing Programs With Functions"
   ]
  },
  {
   "cell_type": "markdown",
   "metadata": {},
   "source": [
    "Problem #14: Card Game  DMOJ problem ccc99s1.\n",
    "Problem #15: Action Figures Timus problem 2144.\n",
    "1. DMOJ problem ccc13s1, From 1987 to 2013\n",
    "2. DMOJ problem ccc18j3, Are we there yet?\n",
    "3. DMOJ problem ecoo12r1p2, Decoding DNA\n",
    "4. DMOJ problem crci07p1, Platforme\n",
    "5. DMOJ problem coci13c2p2, Misa\n",
    "6. Revisit some of the exercises from Chapter 5 and improve your solutions by using functions. I particularly suggest revisiting DMOJ\n",
    "problem coci18c2p1 (Preokret) and DMOJ problem ccc00s2 (Babbling\n",
    "Brooks)."
   ]
  },
  {
   "cell_type": "markdown",
   "metadata": {},
   "source": [
    "# Reading And Writing Files"
   ]
  },
  {
   "cell_type": "markdown",
   "metadata": {},
   "source": [
    "\n",
    "Problem #16: Essay Formatting USACO 2020 January Bronze Contest problem Word Processor.\n",
    "Problem #17: Farm Seeding USACO 2019 February Bronze Contest problem The Great Revegetation.\n",
    "1. USACO 2018 December Bronze Contest problem Mixing Milk\n",
    "2. USACO 2017 February Bronze Contest problem Why Did the Cow\n",
    "Cross the Road\n",
    "3. USACO 2017 US Open Bronze Contest problem The Lost Cow\n",
    "4. USACO 2019 December Bronze Contest problem Cow Gymnastics\n",
    "5. USACO 2017 US Open Bronze Contest problem Bovine Genomics\n",
    "6. USACO 2018 US Open Bronze Contest problem Team Tic Tac Toe\n",
    "7. USACO 2019 February Bronze Contest problem Sleepy Cow\n",
    "Herding"
   ]
  },
  {
   "cell_type": "markdown",
   "metadata": {},
   "source": [
    "# Organizing Values Using Sets And Dictionaries"
   ]
  },
  {
   "cell_type": "markdown",
   "metadata": {},
   "source": [
    "Problem #18: Email Addresses DMOJ problem ecoo19r2p1.\n",
    "Problem #19: Common Words DMOJ problem cco99p2.\n",
    "Problem #20: Cities and States USACO 2016 December Silver Contest problem Cities and States.\n",
    "1. DMOJ problem crci06p1, Bard\n",
    "2. DMOJ problem dmopc19c5p1, Conspicuous Cryptic Checklist\n",
    "3. DMOJ problem coci15c2p1, Marko\n",
    "4. DMOJ problem ccc06s2, Attack of the CipherTexts\n",
    "5. DMOJ problem dmopc19c3p1, Mode Finding\n",
    "6. DMOJ problem coci14c2p2, Utrka (Try solving this one in three different ways: using a dictionary, using a set, and using lists!)\n",
    "7. DMOJ problem coci17c2p2, ZigZag (Hint: maintain two dictionaries. The first maps each starting letter to its list of words; the second\n",
    "maps each starting letter to the index of its next word that will be\n",
    "output. That way, we can cycle through the words for each letter\n",
    "without having to explicitly update numbers of occurrences or modify lists.)"
   ]
  },
  {
   "cell_type": "markdown",
   "metadata": {},
   "source": [
    "# Designing Algorithms With Complete Search"
   ]
  },
  {
   "cell_type": "markdown",
   "metadata": {},
   "source": [
    "Problem #21: Lifeguards USACO 2018 January Bronze Contest problem Lifeguards.\n",
    "Problem #22: Ski Hills  USACO 2014 January Bronze Contest problem Ski Course\n",
    "Problem #23: Cow Baseball  USACO 2013 December Bronze Contest problem Cow Baseball.\n",
    "1. USACO 2019 January Bronze Contest problem Shell Game\n",
    "2. USACO 2016 US Open Bronze Contest problem Diamond Collector\n",
    "3. DMOJ problem coci20c1p1, Patkice\n",
    "4. DMOJ problem ccc09j2, Old Fishin’ Hole\n",
    "5. DMOJ problem ecoo16r1p2, Spindie\n",
    "6. DMOJ problem cco96p2, SafeBreaker\n",
    "7. USACO 2019 December Bronze Contest problem Where Am I\n",
    "8. USACO 2016 January Bronze Contest problem Angry Cows\n",
    "9. USACO 2016 December Silver Contest problem Counting Haybales\n",
    "10. DMOJ problem crci06p3, Firefly"
   ]
  },
  {
   "cell_type": "markdown",
   "metadata": {},
   "source": [
    "# Big O And Program Efficiency"
   ]
  },
  {
   "cell_type": "markdown",
   "metadata": {},
   "source": [
    "Problem #24: Longest Scarf DMOJ problem dmopc20c2p2.\n",
    "Problem #25: Ribbon Painting DMOJ problem dmopc17c4p1.\n",
    "1. DMOJ problem dmopc17c1p1, Fujo Neko (The problem talks about\n",
    "using fast input/output. Don’t ignore that!)\n",
    "2. DMOJ problem coci10c1p2, Profesor\n",
    "3. DMOJ problem coci19c4p1, Pod starim krovovima (Hint: to maximize\n",
    "the number of empty glasses, you want to put as much liquid as possible in the biggest glasses.)\n",
    "4. DMOJ problem dmopc20c1p2, Victor’s Moral Dilemma\n",
    "5. DMOJ problem avocadotrees, Avocado Trees!\n",
    "6. DMOJ problem coci11c5p2, Eko (Hint: the maximum number of\n",
    "trees is far fewer than the maximum number of heights. Consider\n",
    "each tree from tallest to shortest.)\n",
    "7. DMOJ problem wac6p2, Cheap Christmas Lights (Hint: don’t try flipping a switch each second—how would you know which one to flip?\n",
    "Instead, store them up, and use them all as soon as you can shut off\n",
    "all the lights that are on.)\n",
    "8. DMOJ problem ioi98p3, Party Lamps (Hint: all that matters for each\n",
    "button is whether it is pressed an even or odd number of times.)\n"
   ]
  }
 ],
 "metadata": {
  "interpreter": {
   "hash": "aee8b7b246df8f9039afb4144a1f6fd8d2ca17a180786b69acc140d282b71a49"
  },
  "kernelspec": {
   "display_name": "Python 3.10.0 64-bit",
   "language": "python",
   "name": "python3"
  },
  "language_info": {
   "codemirror_mode": {
    "name": "ipython",
    "version": 3
   },
   "file_extension": ".py",
   "mimetype": "text/x-python",
   "name": "python",
   "nbconvert_exporter": "python",
   "pygments_lexer": "ipython3",
   "version": "3.10.0"
  },
  "orig_nbformat": 4
 },
 "nbformat": 4,
 "nbformat_minor": 2
}
