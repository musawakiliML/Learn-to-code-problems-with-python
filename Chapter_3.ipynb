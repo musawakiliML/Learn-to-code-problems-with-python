{
 "cells": [
  {
   "cell_type": "markdown",
   "metadata": {},
   "source": [
    "# Chapter Three: Repeating Code - Definite Loops"
   ]
  },
  {
   "cell_type": "markdown",
   "metadata": {},
   "source": []
  },
  {
   "cell_type": "code",
   "execution_count": 1,
   "metadata": {},
   "outputs": [
    {
     "name": "stdout",
     "output_type": "stream",
     "text": [
      "Final Ball Location:1\n"
     ]
    }
   ],
   "source": [
    "# Problem Sixteen: Three Cups DMOJ problem coci06c5p1.\n",
    "\n",
    "user_input = input(\"Enter User Moves:\")\n",
    "\n",
    "ball_location = 1\n",
    "swap_type = ''\n",
    "\n",
    "for i in user_input:\n",
    "    swap_type = i\n",
    "    if swap_type == \"A\" and ball_location == 1:\n",
    "        ball_location = 2\n",
    "    elif swap_type == \"A\" and ball_location == 2:\n",
    "        ball_location = 1\n",
    "    elif swap_type == \"A\" and ball_location == 3:\n",
    "        ball_location = 3\n",
    "    elif swap_type == \"B\" and ball_location == 1:\n",
    "        ball_location = 1\n",
    "    elif swap_type == \"B\" and ball_location == 2:\n",
    "        ball_location = 3\n",
    "    elif swap_type == \"B\" and ball_location == 3:\n",
    "        ball_location = 2\n",
    "    elif swap_type == \"C\" and ball_location == 1:\n",
    "        ball_location = 3\n",
    "    elif swap_type == \"C\" and ball_location == 2:\n",
    "        ball_location = 2\n",
    "    elif swap_type == \"C\" and ball_location == 3:\n",
    "        ball_location = 1\n",
    "\n",
    "print(f\"Final Ball Location:{ball_location}\")\n"
   ]
  },
  {
   "cell_type": "code",
   "execution_count": 2,
   "metadata": {},
   "outputs": [
    {
     "ename": "IndexError",
     "evalue": "string index out of range",
     "output_type": "error",
     "traceback": [
      "\u001b[0;31m---------------------------------------------------------------------------\u001b[0m",
      "\u001b[0;31mIndexError\u001b[0m                                Traceback (most recent call last)",
      "Cell \u001b[0;32mIn[2], line 10\u001b[0m\n\u001b[1;32m      7\u001b[0m space_occupied_by_both \u001b[38;5;241m=\u001b[39m \u001b[38;5;241m0\u001b[39m\n\u001b[1;32m      9\u001b[0m \u001b[38;5;28;01mfor\u001b[39;00m i \u001b[38;5;129;01min\u001b[39;00m \u001b[38;5;28mrange\u001b[39m(number_of_parking_space):\n\u001b[0;32m---> 10\u001b[0m     \u001b[38;5;28;01mif\u001b[39;00m \u001b[43myesterday_info\u001b[49m\u001b[43m[\u001b[49m\u001b[43mi\u001b[49m\u001b[43m]\u001b[49m \u001b[38;5;241m==\u001b[39m \u001b[38;5;124m\"\u001b[39m\u001b[38;5;124mC\u001b[39m\u001b[38;5;124m\"\u001b[39m \u001b[38;5;129;01mand\u001b[39;00m today_info[i] \u001b[38;5;241m==\u001b[39m \u001b[38;5;124m\"\u001b[39m\u001b[38;5;124mC\u001b[39m\u001b[38;5;124m\"\u001b[39m:\n\u001b[1;32m     11\u001b[0m         space_occupied_by_both \u001b[38;5;241m+\u001b[39m\u001b[38;5;241m=\u001b[39m \u001b[38;5;241m1\u001b[39m\n\u001b[1;32m     12\u001b[0m \u001b[38;5;28mprint\u001b[39m(space_occupied_by_both)\n",
      "\u001b[0;31mIndexError\u001b[0m: string index out of range"
     ]
    }
   ],
   "source": [
    "# Problem Seventeen: Occupied Spaces DMOJ problem ccc18j2.\n",
    "number_of_parking_space = int(input(\"Enter number of parking space:\"))\n",
    "\n",
    "yesterday_info = input(\"Enter the information of yesterday:\")\n",
    "today_info = input(\"Enter the information of today:\")\n",
    "\n",
    "space_occupied_by_both = 0\n",
    "\n",
    "for i in range(number_of_parking_space):\n",
    "    if yesterday_info[i] == \"C\" and today_info[i] == \"C\":\n",
    "        space_occupied_by_both += 1\n",
    "print(space_occupied_by_both)"
   ]
  },
  {
   "cell_type": "code",
   "execution_count": null,
   "metadata": {},
   "outputs": [],
   "source": []
  }
 ],
 "metadata": {
  "kernelspec": {
   "display_name": "Amazon-Price-Tracker-37JzzDMR",
   "language": "python",
   "name": "python3"
  },
  "language_info": {
   "codemirror_mode": {
    "name": "ipython",
    "version": 3
   },
   "file_extension": ".py",
   "mimetype": "text/x-python",
   "name": "python",
   "nbconvert_exporter": "python",
   "pygments_lexer": "ipython3",
   "version": "3.11.6"
  },
  "orig_nbformat": 4
 },
 "nbformat": 4,
 "nbformat_minor": 2
}
