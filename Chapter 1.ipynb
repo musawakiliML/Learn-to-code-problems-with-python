{
 "cells": [
  {
   "cell_type": "markdown",
   "metadata": {},
   "source": [
    "# Chapter One: Getting Started"
   ]
  },
  {
   "cell_type": "code",
   "execution_count": 1,
   "metadata": {},
   "outputs": [
    {
     "name": "stdout",
     "output_type": "stream",
     "text": [
      "I Love Python ❤️\n"
     ]
    }
   ],
   "source": [
    "import emoji\n",
    "\n",
    "print(emoji.emojize(\"I Love Python :red_heart:\"))"
   ]
  },
  {
   "cell_type": "markdown",
   "metadata": {},
   "source": [
    "## Problem One :  DMOJ problem dmopc15c7p2, Word Count\n",
    "#### Link: [View Problem](https://dmoj.ca/problem/dmopc15c7p2)"
   ]
  },
  {
   "cell_type": "code",
   "execution_count": 2,
   "metadata": {},
   "outputs": [
    {
     "name": "stdout",
     "output_type": "stream",
     "text": [
      "The Sentence: 'this is a test sentence' has 5 words.\n"
     ]
    }
   ],
   "source": [
    " # This Program Checks the number of words in a sentence \n",
    "sentence = input(\"Enter a word:\")\n",
    "\n",
    "word_count = sentence.count(\" \") + 1\n",
    "\n",
    "print(f\"The Sentence: '{sentence}' has {word_count} words.\")"
   ]
  },
  {
   "cell_type": "markdown",
   "metadata": {},
   "source": [
    "## Problem Two: DMOJ problem dmopc14c5p1, Cone Volume\n",
    "#### Link: [View Problem](https://dmoj.ca/problem/dmopc14c5p1)"
   ]
  },
  {
   "cell_type": "code",
   "execution_count": 3,
   "metadata": {},
   "outputs": [
    {
     "name": "stdout",
     "output_type": "stream",
     "text": [
      "The volume of a Cone with 12 radius and 23 height is 3468.318289563131\n"
     ]
    }
   ],
   "source": [
    "# This program calculates the volume of cone using the formula:(π * r^2 * h)/3\n",
    "import math\n",
    "\n",
    "radius = eval(input(\"Enter radius:\"))\n",
    "height = eval(input(\"Enter height:\"))\n",
    "\n",
    "volume = math.pi * (radius ** 2) * height / 3\n",
    "\n",
    "print(f\"The volume of a Cone with {radius} radius and {height} height is {volume}\")"
   ]
  },
  {
   "cell_type": "markdown",
   "metadata": {},
   "source": [
    "## Problem Three: DMOJ problem wc17c1j2, How’s the Weather?\n",
    "#### Link: [View Problem](https://dmoj.ca/problem/wc17c1j2)"
   ]
  },
  {
   "cell_type": "code",
   "execution_count": 4,
   "metadata": {},
   "outputs": [
    {
     "name": "stdout",
     "output_type": "stream",
     "text": [
      "12 Celsius is 53.6 Fahrenheit\n"
     ]
    }
   ],
   "source": [
    "# This program calculates the celsius based on the fahrenhiet value given\n",
    "# Formula : celsius = (5/9)*(fahrenhiet - 32)\n",
    "\n",
    "#fahrenheit = eval(input(\"Enter Celsius:\"))\n",
    "celsius = eval(input(\"Enter Celsius:\"))\n",
    "\n",
    "#celsius = 5 / 9 * (fahrenheit - 32)\n",
    "fahrenheit = (9 * celsius) / 5 + 32\n",
    "\n",
    "#print(f\"{fahrenheit} Fahrenheit is {celsius} Celsius.\")\n",
    "print(f\"{celsius} Celsius is {fahrenheit} Fahrenheit\")"
   ]
  },
  {
   "cell_type": "markdown",
   "metadata": {},
   "source": [
    "## Problem Four: DMOJ problem wc16c1j1, A Spooky Season\n",
    "#### Link: [View Problem](https://dmoj.ca/problem/wc16c1j1)"
   ]
  },
  {
   "cell_type": "code",
   "execution_count": 5,
   "metadata": {},
   "outputs": [
    {
     "name": "stdout",
     "output_type": "stream",
     "text": [
      "spooooooky\n"
     ]
    }
   ],
   "source": [
    "# This program repeats a set of characters in an input based on the uer request(input)\n",
    "\n",
    "number = int(input(\"Enter a number:\"))\n",
    "\n",
    "word = f\"sp{'o' * number}ky\"\n",
    "\n",
    "print(word)"
   ]
  },
  {
   "cell_type": "markdown",
   "metadata": {},
   "source": [
    "## Problem Five: DMOJ problem wc15c2j1, A New Hope\n",
    "#### Link: [View Problem](https://dmoj.ca/problem/wc15c2j1)"
   ]
  },
  {
   "cell_type": "code",
   "execution_count": 6,
   "metadata": {},
   "outputs": [
    {
     "name": "stdout",
     "output_type": "stream",
     "text": [
      "A long time ago in a galaxy far, far, far, far, far away...\n"
     ]
    }
   ],
   "source": [
    "# This program will print \"far\" N times\n",
    "\n",
    "number = int(input(\"Enter a Number:\"))\n",
    "\n",
    "text = f\"A long time ago in a galaxy {'far, ' * (number - 1)}far away...\"\n",
    "\n",
    "print(text)"
   ]
  },
  {
   "cell_type": "markdown",
   "metadata": {},
   "source": [
    "## Problem Six: DMOJ problem ccc13j1, Next in Line\n",
    "#### Link: [View Problem](https://dmoj.ca/problem/ccc13j1)"
   ]
  },
  {
   "cell_type": "code",
   "execution_count": 7,
   "metadata": {},
   "outputs": [
    {
     "name": "stdout",
     "output_type": "stream",
     "text": [
      "The Oldest Child is 16 years old.\n"
     ]
    }
   ],
   "source": [
    "# This program get the age of the oldest given the youngest and the middle\n",
    "youngest_age = int(input(\"Enter the age of the youngest child:\"))\n",
    "middle_age = int(input(\"ENter the age of the middle child:\"))\n",
    "\n",
    "oldest_age = 2 * middle_age - youngest_age\n",
    "\n",
    "print(f\"The Oldest Child is {oldest_age} years old.\")"
   ]
  },
  {
   "cell_type": "markdown",
   "metadata": {},
   "source": [
    "## Problem Seven: DMOJ problem wc18c3j1, An Honest Day’s Work\n",
    "#### Link: [View Problem](https://dmoj.ca/problem/wc18c3j1)"
   ]
  },
  {
   "cell_type": "code",
   "execution_count": 8,
   "metadata": {},
   "outputs": [
    {
     "name": "stdout",
     "output_type": "stream",
     "text": [
      "The Total Money is $10 Dollars\n"
     ]
    }
   ],
   "source": [
    "#This program calculates the total money of creating a bottle cap\n",
    "\n",
    "paint_litres = int(input(\"Enter the amount of paint(litres):\"))\n",
    "bottle_caps = int(input(\"Enter the amount of litres(per badge):\"))\n",
    "poke_dollars = int(input(\"Enter the cost of each badge:\"))\n",
    "\n",
    "total_money = (paint_litres // bottle_caps * poke_dollars) + (paint_litres % bottle_caps)\n",
    "\n",
    "print(f\"The Total Money is ${total_money} Dollars\")"
   ]
  },
  {
   "cell_type": "markdown",
   "metadata": {},
   "source": [
    "## More Advanced Problems\n",
    "## Problem X-1: DMOJ Problem sac21ccp1, SAC '21 Code Challenge P1 - Shrinkage\n",
    "#### Link: [View Problem](https://dmoj.ca/problem/sac21ccp1)"
   ]
  },
  {
   "cell_type": "code",
   "execution_count": null,
   "metadata": {},
   "outputs": [],
   "source": []
  },
  {
   "cell_type": "markdown",
   "metadata": {},
   "source": [
    "## Problem X-2: DMOJ Problem sac22cc1p1, SAC '22 Code Challenge 1 P1 - That Teacher\n",
    "#### Link: [View Problem](https://dmoj.ca/problem/sac22cc1p1)"
   ]
  },
  {
   "cell_type": "code",
   "execution_count": null,
   "metadata": {},
   "outputs": [],
   "source": []
  },
  {
   "cell_type": "markdown",
   "metadata": {},
   "source": [
    "## Problem X-3: DMOJ Problem ccc22j1, CCC '22 J1 - Cupcake Party\n",
    "#### Link: [View Problem](https://dmoj.ca/problem/ccc22j1)"
   ]
  },
  {
   "cell_type": "code",
   "execution_count": null,
   "metadata": {},
   "outputs": [],
   "source": []
  }
 ],
 "metadata": {
  "kernelspec": {
   "display_name": "Python 3.10.0 64-bit",
   "language": "python",
   "name": "python3"
  },
  "language_info": {
   "codemirror_mode": {
    "name": "ipython",
    "version": 3
   },
   "file_extension": ".py",
   "mimetype": "text/x-python",
   "name": "python",
   "nbconvert_exporter": "python",
   "pygments_lexer": "ipython3",
   "version": "3.10.0"
  },
  "orig_nbformat": 4,
  "vscode": {
   "interpreter": {
    "hash": "aee8b7b246df8f9039afb4144a1f6fd8d2ca17a180786b69acc140d282b71a49"
   }
  }
 },
 "nbformat": 4,
 "nbformat_minor": 2
}
