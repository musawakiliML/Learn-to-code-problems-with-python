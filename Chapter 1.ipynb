{
 "cells": [
  {
   "cell_type": "markdown",
   "metadata": {},
   "source": [
    "# Chapter One: Getting Started"
   ]
  },
  {
   "cell_type": "code",
   "execution_count": 1,
   "metadata": {},
   "outputs": [
    {
     "name": "stdout",
     "output_type": "stream",
     "text": [
      "I Love Python ❤️\n"
     ]
    }
   ],
   "source": [
    "import emoji\n",
    "\n",
    "print(emoji.emojize(\"I Love Python :red_heart:\"))"
   ]
  },
  {
   "cell_type": "markdown",
   "metadata": {},
   "source": [
    "## Problem One :  DMOJ problem dmopc15c7p2, Word Count\n",
    "#### Link: [View Problem](https://dmoj.ca/problem/dmopc15c7p2)"
   ]
  },
  {
   "cell_type": "code",
   "execution_count": 2,
   "metadata": {},
   "outputs": [
    {
     "name": "stdout",
     "output_type": "stream",
     "text": [
      "The Sentence: 'this is a test sentence' has 5 words.\n"
     ]
    }
   ],
   "source": [
    " # This Program Checks the number of words in a sentence \n",
    "sentence = input(\"Enter a word:\")\n",
    "\n",
    "word_count = sentence.count(\" \") + 1\n",
    "\n",
    "print(f\"The Sentence: '{sentence}' has {word_count} words.\")"
   ]
  },
  {
   "cell_type": "markdown",
   "metadata": {},
   "source": [
    "## Problem Two: DMOJ problem dmopc14c5p1, Cone Volume\n",
    "#### Link: [View Problem](https://dmoj.ca/problem/dmopc14c5p1)"
   ]
  },
  {
   "cell_type": "code",
   "execution_count": 3,
   "metadata": {},
   "outputs": [
    {
     "name": "stdout",
     "output_type": "stream",
     "text": [
      "The volume of a Cone with 12 radius and 23 height is 3468.318289563131\n"
     ]
    }
   ],
   "source": [
    "# This program calculates the volume of cone using the formula:(π * r^2 * h)/3\n",
    "import math\n",
    "\n",
    "radius = eval(input(\"Enter radius:\"))\n",
    "height = eval(input(\"Enter height:\"))\n",
    "\n",
    "volume = math.pi * (radius ** 2) * height / 3\n",
    "\n",
    "print(f\"The volume of a Cone with {radius} radius and {height} height is {volume}\")"
   ]
  },
  {
   "cell_type": "markdown",
   "metadata": {},
   "source": [
    "## Problem Three: DMOJ problem wc17c1j2, How’s the Weather?\n",
    "#### Link: [View Problem](https://dmoj.ca/problem/wc17c1j2)"
   ]
  },
  {
   "cell_type": "code",
   "execution_count": 4,
   "metadata": {},
   "outputs": [
    {
     "name": "stdout",
     "output_type": "stream",
     "text": [
      "12 Celsius is 53.6 Fahrenheit\n"
     ]
    }
   ],
   "source": [
    "# This program calculates the celsius based on the fahrenhiet value given\n",
    "# Formula : celsius = (5/9)*(fahrenhiet - 32)\n",
    "\n",
    "#fahrenheit = eval(input(\"Enter Celsius:\"))\n",
    "celsius = eval(input(\"Enter Celsius:\"))\n",
    "\n",
    "#celsius = 5 / 9 * (fahrenheit - 32)\n",
    "fahrenheit = (9 * celsius) / 5 + 32\n",
    "\n",
    "#print(f\"{fahrenheit} Fahrenheit is {celsius} Celsius.\")\n",
    "print(f\"{celsius} Celsius is {fahrenheit} Fahrenheit\")"
   ]
  },
  {
   "cell_type": "code",
   "execution_count": null,
   "metadata": {},
   "outputs": [],
   "source": []
  }
 ],
 "metadata": {
  "kernelspec": {
   "display_name": "Python 3.10.0 64-bit",
   "language": "python",
   "name": "python3"
  },
  "language_info": {
   "codemirror_mode": {
    "name": "ipython",
    "version": 3
   },
   "file_extension": ".py",
   "mimetype": "text/x-python",
   "name": "python",
   "nbconvert_exporter": "python",
   "pygments_lexer": "ipython3",
   "version": "3.10.0"
  },
  "orig_nbformat": 4,
  "vscode": {
   "interpreter": {
    "hash": "aee8b7b246df8f9039afb4144a1f6fd8d2ca17a180786b69acc140d282b71a49"
   }
  }
 },
 "nbformat": 4,
 "nbformat_minor": 2
}
